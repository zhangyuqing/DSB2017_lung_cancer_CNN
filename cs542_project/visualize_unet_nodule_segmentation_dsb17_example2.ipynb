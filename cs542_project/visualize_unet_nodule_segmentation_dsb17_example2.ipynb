{
 "cells": [
  {
   "cell_type": "markdown",
   "metadata": {},
   "source": [
    "# Load data"
   ]
  },
  {
   "cell_type": "code",
   "execution_count": null,
   "metadata": {
    "collapsed": true
   },
   "outputs": [],
   "source": [
    "import os\n",
    "import numpy as np\n",
    "\n",
    "import matplotlib.pyplot as plt\n",
    "%matplotlib inline"
   ]
  },
  {
   "cell_type": "code",
   "execution_count": null,
   "metadata": {
    "collapsed": true
   },
   "outputs": [],
   "source": [
    "EPOCH = 35  \n",
    "\n",
    "DATA_DIR = './data/preprocessed_masks/lung_region/'\n",
    "PROB_DIR = './data/preprocessed_masks/nodule_prob_epoch_%08d/' % EPOCH\n",
    "\n",
    "UID = '87cdb87db24528fdb8479220a1854b83'"
   ]
  },
  {
   "cell_type": "code",
   "execution_count": null,
   "metadata": {
    "collapsed": false
   },
   "outputs": [],
   "source": [
    "# Load the image and the lung mask\n",
    "f = np.load(os.path.join(DATA_DIR, UID + '_lung_region.npz'))\n",
    "lung_img, lung_mask = f['lung_img'], f['lung_mask']\n",
    "f.close()\n",
    "\n",
    "# Load the 3D probability map\n",
    "f = np.load(os.path.join(PROB_DIR, UID + '_nodule_prob.npz'))\n",
    "prob3d = f['prob3d']\n",
    "f.close()\n",
    "\n",
    "print('CT scan size in ZYX:', lung_img.shape)"
   ]
  },
  {
   "cell_type": "markdown",
   "metadata": {},
   "source": [
    "# Along axis 0 (Z-axis)"
   ]
  },
  {
   "cell_type": "code",
   "execution_count": null,
   "metadata": {
    "collapsed": false
   },
   "outputs": [],
   "source": [
    "z = 120\n",
    "\n",
    "plt.figure()\n",
    "plt.imshow(lung_img[z, :, :], vmin=-1000, vmax=400, cmap=plt.cm.bone)\n",
    "plt.title('HU values')\n",
    "plt.colorbar()\n",
    "\n",
    "plt.figure()\n",
    "plt.imshow(prob3d[z, :, :], vmin=0, vmax=1)\n",
    "plt.title('nodule probability')\n",
    "plt.colorbar()\n",
    "\n",
    "plt.figure()\n",
    "plt.imshow(prob3d[z, :, :] >= 0.2, vmin=0, vmax=1)\n",
    "plt.title('nodule mask (threshold at 0.2)')\n",
    "plt.colorbar()"
   ]
  },
  {
   "cell_type": "markdown",
   "metadata": {},
   "source": [
    "# Along axis 1 (Y-axis)"
   ]
  },
  {
   "cell_type": "code",
   "execution_count": null,
   "metadata": {
    "collapsed": false
   },
   "outputs": [],
   "source": [
    "y = 125\n",
    "\n",
    "plt.figure()\n",
    "plt.imshow(lung_img[:, y, :], vmin=-1000, vmax=400, cmap=plt.cm.bone)\n",
    "plt.title('HU values')\n",
    "plt.colorbar()\n",
    "\n",
    "plt.figure()\n",
    "plt.imshow(prob3d[:, y, :], vmin=0, vmax=1)\n",
    "plt.title('nodule probability')\n",
    "plt.colorbar()\n",
    "\n",
    "plt.figure()\n",
    "plt.imshow(prob3d[:, y, :] >= 0.2, vmin=0, vmax=1)\n",
    "plt.title('nodule mask (threshold at 0.2)')\n",
    "plt.colorbar()"
   ]
  },
  {
   "cell_type": "markdown",
   "metadata": {},
   "source": [
    "# Along axis 2 (X-axis)"
   ]
  },
  {
   "cell_type": "code",
   "execution_count": null,
   "metadata": {
    "collapsed": false
   },
   "outputs": [],
   "source": [
    "x = 60\n",
    "\n",
    "plt.figure()\n",
    "plt.imshow(lung_img[:, :, x], vmin=-1000, vmax=400, cmap=plt.cm.bone)\n",
    "plt.title('HU values')\n",
    "plt.colorbar()\n",
    "\n",
    "plt.figure()\n",
    "plt.imshow(prob3d[:, :, x], vmin=0, vmax=1)\n",
    "plt.title('nodule probability')\n",
    "plt.colorbar()\n",
    "\n",
    "plt.figure()\n",
    "plt.imshow(prob3d[:, :, x] >= 0.2, vmin=0, vmax=1)\n",
    "plt.title('nodule mask (threshold at 0.2)')\n",
    "plt.colorbar()"
   ]
  },
  {
   "cell_type": "code",
   "execution_count": null,
   "metadata": {
    "collapsed": true
   },
   "outputs": [],
   "source": [
    "# Find connected components\n",
    "import skimage.measure"
   ]
  },
  {
   "cell_type": "code",
   "execution_count": null,
   "metadata": {
    "collapsed": false
   },
   "outputs": [],
   "source": [
    "threshold = 0.2\n",
    "\n",
    "nodule_mask = (prob3d >= threshold)\n",
    "\n",
    "# Get the cluster id (integer) of each voxel, and number of clusters\n",
    "cluster_ids, cluster_num = skimage.measure.label(nodule_mask, return_num=True)\n",
    "print('number of clusters found:', cluster_num)"
   ]
  },
  {
   "cell_type": "code",
   "execution_count": null,
   "metadata": {
    "collapsed": false
   },
   "outputs": [],
   "source": [
    "# Compute the volumn of each cluster\n",
    "# This may take some time\n",
    "cluster_volumns = [np.sum(cluster_ids==c_id) for c_id in range(cluster_num)]"
   ]
  },
  {
   "cell_type": "code",
   "execution_count": null,
   "metadata": {
    "collapsed": false
   },
   "outputs": [],
   "source": [
    "# volumn_threshold = "
   ]
  }
 ],
 "metadata": {
  "anaconda-cloud": {},
  "kernelspec": {
   "display_name": "Python [default]",
   "language": "python",
   "name": "python3"
  },
  "language_info": {
   "codemirror_mode": {
    "name": "ipython",
    "version": 3
   },
   "file_extension": ".py",
   "mimetype": "text/x-python",
   "name": "python",
   "nbconvert_exporter": "python",
   "pygments_lexer": "ipython3",
   "version": "3.5.1"
  }
 },
 "nbformat": 4,
 "nbformat_minor": 1
}
