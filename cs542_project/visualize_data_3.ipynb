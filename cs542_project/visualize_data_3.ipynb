{
 "cells": [
  {
   "cell_type": "code",
   "execution_count": null,
   "metadata": {
    "collapsed": true
   },
   "outputs": [],
   "source": [
    "import numpy as np # linear algebra\n",
    "import csv\n",
    "import os\n",
    "\n",
    "from plot_3d import plot_3d\n",
    "\n",
    "import matplotlib.pyplot as plt\n",
    "%matplotlib inline"
   ]
  },
  {
   "cell_type": "code",
   "execution_count": null,
   "metadata": {
    "collapsed": false
   },
   "outputs": [],
   "source": [
    "DATA_DIR = './data/preprocessed/'\n",
    "LABLE_FILE_TRAIN = './data/stage1_labels_stage1train.csv'\n",
    "\n",
    "sample_list = []\n",
    "with open(LABLE_FILE_TRAIN) as f:\n",
    "    for name, label in csv.reader(f):\n",
    "        sample_list.append((name, float(label)))\n",
    "print('number of samples:', len(sample_list))"
   ]
  },
  {
   "cell_type": "code",
   "execution_count": null,
   "metadata": {
    "collapsed": false
   },
   "outputs": [],
   "source": [
    "i = 3\n",
    "name, label = sample_list[i]\n",
    "d = np.load(os.path.join(DATA_DIR, name+'.npz'))\n",
    "\n",
    "full_image = d['pix_resampled']\n",
    "mask = d['segmented_lungs_fill_dilated']\n",
    "mask_image = full_image * mask\n",
    "\n",
    "plot_3d(full_image, 400)\n",
    "plot_3d(mask, 0)\n",
    "plot_3d(mask_image)"
   ]
  },
  {
   "cell_type": "code",
   "execution_count": null,
   "metadata": {
    "collapsed": false
   },
   "outputs": [],
   "source": [
    "i = 11\n",
    "name, label = sample_list[i]\n",
    "d = np.load(os.path.join(DATA_DIR, name+'.npz'))\n",
    "\n",
    "full_image = d['pix_resampled']\n",
    "mask = d['segmented_lungs_fill_dilated']\n",
    "mask_image = full_image * mask\n",
    "\n",
    "plot_3d(full_image, 400)\n",
    "plot_3d(mask, 0)\n",
    "plot_3d(mask_image)"
   ]
  },
  {
   "cell_type": "code",
   "execution_count": null,
   "metadata": {
    "collapsed": false
   },
   "outputs": [],
   "source": [
    "i = 15\n",
    "name, label = sample_list[i]\n",
    "d = np.load(os.path.join(DATA_DIR, name+'.npz'))\n",
    "\n",
    "full_image = d['pix_resampled']\n",
    "mask = d['segmented_lungs_fill_dilated']\n",
    "mask_image = full_image * mask\n",
    "\n",
    "plot_3d(full_image, 400)\n",
    "plot_3d(mask, 0)\n",
    "plot_3d(mask_image)"
   ]
  }
 ],
 "metadata": {
  "anaconda-cloud": {},
  "kernelspec": {
   "display_name": "Python [default]",
   "language": "python",
   "name": "python3"
  },
  "language_info": {
   "codemirror_mode": {
    "name": "ipython",
    "version": 3
   },
   "file_extension": ".py",
   "mimetype": "text/x-python",
   "name": "python",
   "nbconvert_exporter": "python",
   "pygments_lexer": "ipython3",
   "version": "3.5.1"
  }
 },
 "nbformat": 4,
 "nbformat_minor": 1
}
