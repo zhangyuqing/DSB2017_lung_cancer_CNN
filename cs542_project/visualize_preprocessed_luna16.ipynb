{
 "cells": [
  {
   "cell_type": "code",
   "execution_count": null,
   "metadata": {
    "collapsed": true
   },
   "outputs": [],
   "source": [
    "import numpy as np\n",
    "\n",
    "import matplotlib.pyplot as plt\n",
    "%matplotlib inline"
   ]
  },
  {
   "cell_type": "code",
   "execution_count": null,
   "metadata": {
    "collapsed": true
   },
   "outputs": [],
   "source": [
    "DATA_DIR = './data_luna16/preprocessed_masks/'\n",
    "UID = '1.3.6.1.4.1.14519.5.2.1.6279.6001.897684031374557757145405000951'"
   ]
  },
  {
   "cell_type": "code",
   "execution_count": null,
   "metadata": {
    "collapsed": false
   },
   "outputs": [],
   "source": [
    "lung_img = np.load(DATA_DIR + UID + '_lung_img.npy')\n",
    "lung_mask = np.load(DATA_DIR + UID + '_lung_mask.npy')\n",
    "nodule_mask = np.load(DATA_DIR + UID + '_nodule_mask.npy')"
   ]
  },
  {
   "cell_type": "code",
   "execution_count": null,
   "metadata": {
    "collapsed": false
   },
   "outputs": [],
   "source": [
    "print('Volumn of nodule mask:', np.sum(nodule_mask))\n",
    "print('Fraction of nodule mask:', np.sum(nodule_mask) / nodule_mask.size)"
   ]
  },
  {
   "cell_type": "code",
   "execution_count": null,
   "metadata": {
    "collapsed": false
   },
   "outputs": [],
   "source": [
    "nonzero_zs = np.nonzero(np.any(nodule_mask, axis=(1, 2)))[0]\n",
    "print('number of scans containing nodules (along z):', len(nonzero_zs))\n",
    "print(nonzero_zs)"
   ]
  },
  {
   "cell_type": "code",
   "execution_count": null,
   "metadata": {
    "collapsed": false,
    "scrolled": false
   },
   "outputs": [],
   "source": [
    "plt.close('all')\n",
    "\n",
    "z = 120\n",
    "\n",
    "plt.figure()\n",
    "plt.imshow(lung_img[z], cmap=plt.cm.bone, vmin=-1000, vmax=400)\n",
    "plt.colorbar()\n",
    "plt.figure()\n",
    "plt.imshow(lung_img[z]*lung_mask[z], cmap=plt.cm.bone, vmin=-1000, vmax=400)\n",
    "plt.colorbar()\n",
    "plt.figure()\n",
    "plt.imshow(nodule_mask[z], vmin=0, vmax=1)\n",
    "plt.colorbar()\n",
    "plt.figure()\n",
    "plt.imshow(lung_img[z]*nodule_mask[z], cmap=plt.cm.bone, vmin=-1000, vmax=400)\n",
    "plt.colorbar()\n",
    "\n",
    "y = 340\n",
    "\n",
    "plt.figure()\n",
    "plt.imshow(lung_img[:, y], cmap=plt.cm.bone, vmin=-1000, vmax=400)\n",
    "plt.colorbar()\n",
    "plt.figure()\n",
    "plt.imshow(lung_img[:, y]*lung_mask[:, y], cmap=plt.cm.bone, vmin=-1000, vmax=400)\n",
    "plt.colorbar()\n",
    "plt.figure()\n",
    "plt.imshow(nodule_mask[:, y], vmin=0, vmax=1)\n",
    "plt.colorbar()\n",
    "plt.figure()\n",
    "plt.imshow(lung_img[:, y]*nodule_mask[:, y], cmap=plt.cm.bone, vmin=-1000, vmax=400)\n",
    "plt.colorbar()\n",
    "\n",
    "x = 300\n",
    "\n",
    "plt.figure()\n",
    "plt.imshow(lung_img[..., x], cmap=plt.cm.bone, vmin=-1000, vmax=400)\n",
    "plt.colorbar()\n",
    "plt.figure()\n",
    "plt.imshow(lung_img[..., x]*lung_mask[..., x], cmap=plt.cm.bone, vmin=-1000, vmax=400)\n",
    "plt.colorbar()\n",
    "plt.figure()\n",
    "plt.imshow(nodule_mask[..., x], vmin=0, vmax=1)\n",
    "plt.colorbar()\n",
    "plt.figure()\n",
    "plt.imshow(lung_img[..., x]*nodule_mask[..., x], cmap=plt.cm.bone, vmin=-1000, vmax=400)\n",
    "plt.colorbar()"
   ]
  },
  {
   "cell_type": "code",
   "execution_count": null,
   "metadata": {
    "collapsed": false
   },
   "outputs": [],
   "source": [
    "unet_d = np.load(DATA_DIR + 'unet_train/' + UID + '_unet_train.npz')\n",
    "image, label = unet_d['image'], unet_d['label']"
   ]
  },
  {
   "cell_type": "code",
   "execution_count": null,
   "metadata": {
    "collapsed": false
   },
   "outputs": [],
   "source": [
    "print(lung_img.shape, image.shape)"
   ]
  },
  {
   "cell_type": "code",
   "execution_count": null,
   "metadata": {
    "collapsed": false
   },
   "outputs": [],
   "source": [
    "print('Volumn of nodule mask:', np.sum(label))\n",
    "print('Fraction of nodule mask:', np.sum(label) / label.size)"
   ]
  },
  {
   "cell_type": "code",
   "execution_count": null,
   "metadata": {
    "collapsed": false
   },
   "outputs": [],
   "source": [
    "nonzero_zs = np.nonzero(np.any(label, axis=(1, 2)))[0]\n",
    "print('number of scans containing nodules (along z):', len(nonzero_zs))\n",
    "print(nonzero_zs)"
   ]
  },
  {
   "cell_type": "code",
   "execution_count": null,
   "metadata": {
    "collapsed": false
   },
   "outputs": [],
   "source": [
    "plt.close('all')\n",
    "\n",
    "z = 120\n",
    "\n",
    "plt.figure()\n",
    "plt.imshow(image[z], cmap=plt.cm.bone, vmin=-1000, vmax=400)\n",
    "plt.colorbar()\n",
    "plt.figure()\n",
    "plt.imshow(label[z], vmin=0, vmax=1)\n",
    "plt.colorbar()\n",
    "\n",
    "y = 80\n",
    "\n",
    "plt.figure()\n",
    "plt.imshow(image[:, y], cmap=plt.cm.bone, vmin=-1000, vmax=400)\n",
    "plt.colorbar()\n",
    "plt.figure()\n",
    "plt.imshow(label[:, y], vmin=0, vmax=1)\n",
    "plt.colorbar()\n",
    "\n",
    "x = 190\n",
    "\n",
    "plt.figure()\n",
    "plt.imshow(image[..., x], cmap=plt.cm.bone, vmin=-1000, vmax=400)\n",
    "plt.colorbar()\n",
    "plt.figure()\n",
    "plt.imshow(label[..., x], vmin=0, vmax=1)\n",
    "plt.colorbar()"
   ]
  }
 ],
 "metadata": {
  "anaconda-cloud": {},
  "kernelspec": {
   "display_name": "Python [default]",
   "language": "python",
   "name": "python3"
  },
  "language_info": {
   "codemirror_mode": {
    "name": "ipython",
    "version": 3
   },
   "file_extension": ".py",
   "mimetype": "text/x-python",
   "name": "python",
   "nbconvert_exporter": "python",
   "pygments_lexer": "ipython3",
   "version": "3.5.1"
  }
 },
 "nbformat": 4,
 "nbformat_minor": 1
}
