{
 "cells": [
  {
   "cell_type": "code",
   "execution_count": null,
   "metadata": {
    "collapsed": true
   },
   "outputs": [],
   "source": [
    "import numpy as np\n",
    "\n",
    "import matplotlib.pyplot as plt\n",
    "%matplotlib inline"
   ]
  },
  {
   "cell_type": "code",
   "execution_count": null,
   "metadata": {
    "collapsed": true
   },
   "outputs": [],
   "source": [
    "DATA_DIR = './data/preprocessed_masks/'\n",
    "UID = '0015ceb851d7251b8f399e39779d1e7d'\n",
    "\n",
    "lung_img = np.load(DATA_DIR + UID + '_lung_img.npy')\n",
    "lung_mask = np.load(DATA_DIR + UID + '_lung_mask.npy')\n",
    "\n",
    "lung_img = lung_img[::-1]\n",
    "lung_mask = lung_mask[::-1]"
   ]
  },
  {
   "cell_type": "code",
   "execution_count": null,
   "metadata": {
    "collapsed": false
   },
   "outputs": [],
   "source": [
    "lung_img.shape"
   ]
  },
  {
   "cell_type": "code",
   "execution_count": null,
   "metadata": {
    "collapsed": false,
    "scrolled": false
   },
   "outputs": [],
   "source": [
    "plt.close('all')\n",
    "\n",
    "z = 120\n",
    "\n",
    "plt.figure()\n",
    "plt.imshow(lung_img[z], cmap=plt.cm.bone, vmin=-1000, vmax=400)\n",
    "plt.colorbar()\n",
    "plt.figure()\n",
    "plt.imshow(lung_img[z]*lung_mask[z] - 1000 * (1-lung_mask[z]), cmap=plt.cm.bone, vmin=-1000, vmax=400)\n",
    "plt.colorbar()\n",
    "\n",
    "y = 140\n",
    "\n",
    "plt.figure()\n",
    "plt.imshow(lung_img[:, y], cmap=plt.cm.bone, vmin=-1000, vmax=400)\n",
    "plt.colorbar()\n",
    "plt.figure()\n",
    "plt.imshow(lung_img[:, y]*lung_mask[:, y] - 1000 * (1-lung_mask[:, y]), cmap=plt.cm.bone, vmin=-1000, vmax=400)\n",
    "plt.colorbar()\n",
    "\n",
    "x = 300\n",
    "\n",
    "plt.figure()\n",
    "plt.imshow(lung_img[..., x], cmap=plt.cm.bone, vmin=-1000, vmax=400)\n",
    "plt.colorbar()\n",
    "plt.figure()\n",
    "plt.imshow(lung_img[..., x]*lung_mask[..., x] - 1000 * (1-lung_mask[..., x]), cmap=plt.cm.bone, vmin=-1000, vmax=400)\n",
    "plt.colorbar()"
   ]
  },
  {
   "cell_type": "code",
   "execution_count": null,
   "metadata": {
    "collapsed": true
   },
   "outputs": [],
   "source": [
    "DATA_DIR = './data/preprocessed_masks/'\n",
    "UID = 'ab5de6c17f4086ba09b7145178d83b45'\n",
    "\n",
    "lung_img = np.load(DATA_DIR + UID + '_lung_img.npy')\n",
    "lung_mask = np.load(DATA_DIR + UID + '_lung_mask.npy')\n",
    "\n",
    "lung_img = lung_img[::-1]\n",
    "lung_mask = lung_mask[::-1]\n",
    "\n",
    "z = 150"
   ]
  },
  {
   "cell_type": "code",
   "execution_count": null,
   "metadata": {
    "collapsed": false
   },
   "outputs": [],
   "source": [
    "plt.figure()\n",
    "plt.imshow(lung_img[z], cmap=plt.cm.bone, vmin=-1000, vmax=400)\n",
    "plt.colorbar()\n",
    "plt.figure()\n",
    "plt.imshow(lung_mask[z], vmin=0, vmax=1)\n",
    "plt.colorbar()\n",
    "plt.figure()\n",
    "plt.imshow(lung_img[z]*lung_mask[z] - 1000 * (1-lung_mask[z]), cmap=plt.cm.bone, vmin=-1000, vmax=400)\n",
    "plt.colorbar()"
   ]
  }
 ],
 "metadata": {
  "anaconda-cloud": {},
  "kernelspec": {
   "display_name": "Python [default]",
   "language": "python",
   "name": "python3"
  },
  "language_info": {
   "codemirror_mode": {
    "name": "ipython",
    "version": 3
   },
   "file_extension": ".py",
   "mimetype": "text/x-python",
   "name": "python",
   "nbconvert_exporter": "python",
   "pygments_lexer": "ipython3",
   "version": "3.5.1"
  }
 },
 "nbformat": 4,
 "nbformat_minor": 1
}
