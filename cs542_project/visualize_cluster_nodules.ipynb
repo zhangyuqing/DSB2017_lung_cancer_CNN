{
 "cells": [
  {
   "cell_type": "code",
   "execution_count": null,
   "metadata": {
    "collapsed": false
   },
   "outputs": [],
   "source": [
    "import os\n",
    "import numpy as np\n",
    "import skimage.measure\n",
    "\n",
    "import matplotlib.pyplot as plt\n",
    "%matplotlib inline"
   ]
  },
  {
   "cell_type": "code",
   "execution_count": null,
   "metadata": {
    "collapsed": true
   },
   "outputs": [],
   "source": [
    "EPOCH = 100  \n",
    "\n",
    "DATA_DIR = './data/preprocessed_masks/lung_region/'\n",
    "PROB_DIR = './data/preprocessed_masks/nodule_prob_epoch_%08d/' % EPOCH\n",
    "\n",
    "MAX_SIZE = 4/3*np.pi*(20**3)\n",
    "PROB_THRESHOLD = 0.8\n",
    "THRESHOLD_STEP = 0.05\n",
    "\n",
    "TOP_NODULE_NUM = 20\n",
    "CROP_SIZE = 64"
   ]
  },
  {
   "cell_type": "code",
   "execution_count": null,
   "metadata": {
    "collapsed": true
   },
   "outputs": [],
   "source": [
    "UID = '87cdb87db24528fdb8479220a1854b83'"
   ]
  },
  {
   "cell_type": "code",
   "execution_count": null,
   "metadata": {
    "collapsed": false
   },
   "outputs": [],
   "source": [
    "# Load the image and the lung mask\n",
    "f = np.load(os.path.join(DATA_DIR, UID + '_lung_region.npz'))\n",
    "lung_img, lung_mask = f['lung_img'], f['lung_mask']\n",
    "lung_img[~lung_mask] = -1024\n",
    "f.close()\n",
    "\n",
    "# Load the 3D probability map\n",
    "f = np.load(os.path.join(PROB_DIR, UID + '_nodule_prob.npz'))\n",
    "prob3d = f['prob3d']\n",
    "f.close()\n",
    "\n",
    "Z, Y, X = lung_img.shape\n",
    "print('CT scan size in ZYX:', lung_img.shape)"
   ]
  },
  {
   "cell_type": "code",
   "execution_count": null,
   "metadata": {
    "collapsed": false
   },
   "outputs": [],
   "source": [
    "threshold = PROB_THRESHOLD\n",
    "nodule_mask = (prob3d >= threshold)\n",
    "\n",
    "# Find connected regions\n",
    "# Get the cluster id (integer) of each voxel, and number of clusters\n",
    "cluster_ids, cluster_num = skimage.measure.label(nodule_mask, return_num=True, background=0)\n",
    "# the cluster num above is equal to the maximum in cluster_ids\n",
    "# so add 1 get the \"actual\" cluster number (including the bg)\n",
    "cluster_num += 1\n",
    "print('number of clusters found:', cluster_num)"
   ]
  },
  {
   "cell_type": "code",
   "execution_count": null,
   "metadata": {
    "collapsed": false,
    "scrolled": true
   },
   "outputs": [],
   "source": [
    "# i = 1\n",
    "# rm_inds = []\n",
    "# split_ind = [0]*cluster_num\n",
    "# while i < cluster_num:\n",
    "#     # print(i)\n",
    "#     volumn = np.sum(cluster_ids == i)\n",
    "#     if(volumn > MAX_SIZE):\n",
    "#         new_threshold = PROB_THRESHOLD + THRESHOLD_STEP * (split_ind[i]+1)\n",
    "#         # print('splitting cluster %d with volumn %d, threshold %f' % (i, volumn, new_threshold))\n",
    "        \n",
    "#         new_mask = np.logical_and(cluster_ids == i, prob3d >= new_threshold)\n",
    "#         new_cluster_ids, new_cluster_num = skimage.measure.label(new_mask, return_num=True, background=0)\n",
    "#         # print('number of new clusters:', new_cluster_num)\n",
    "        \n",
    "#         # update the cluster indices: new clusters are appended at the end\n",
    "#         split_ind += [split_ind[i] + 1] * new_cluster_num\n",
    "#         cluster_ids[new_cluster_ids >= 1] = cluster_num + new_cluster_ids[new_cluster_ids >= 1] - 1\n",
    "\n",
    "#         # remove the old cluster\n",
    "#         cluster_ids[cluster_ids == i] = 0  \n",
    "#         rm_inds.append(i)\n",
    "#         cluster_num += new_cluster_num\n",
    "    \n",
    "#     i += 1"
   ]
  },
  {
   "cell_type": "code",
   "execution_count": null,
   "metadata": {
    "collapsed": false,
    "scrolled": true
   },
   "outputs": [],
   "source": [
    "# take the top N cluster, sorted by probability weights\n",
    "\n",
    "# compute the sum of nodule probability within the each cluster\n",
    "prob_sums = np.array([np.sum(prob3d[cluster_ids == i]) for i in range(cluster_num)])\n",
    "prob_sums[0] = 0  # skip 0, the background\n",
    "topN_cluster_inds = np.argsort(prob_sums)[::-1][:TOP_NODULE_NUM]\n",
    "\n",
    "# # See how much mess the top-N encodes\n",
    "# prob_sum_topN = np.sum(prob_sums[topN_cluster_inds])\n",
    "# prob_sum_thresh = np.sum(prob3d[prob3d >= PROB_THRESHOLD])\n",
    "# print('fraction of probs in the top %d: %f' % (TOP_NODULE_NUM, prob_sum_topN/prob_sum_thresh))\n",
    "\n",
    "# compute the centroid of each cluster in the top-N and take crops\n",
    "half_size = CROP_SIZE // 2\n",
    "topN_centroids = np.zeros((TOP_NODULE_NUM, 3))\n",
    "topN_lung_img_crop = np.zeros((TOP_NODULE_NUM, CROP_SIZE, CROP_SIZE, CROP_SIZE))\n",
    "topN_prob3d_crop = np.zeros((TOP_NODULE_NUM, CROP_SIZE, CROP_SIZE, CROP_SIZE))\n",
    "Z_mesh, Y_mesh, X_mesh = np.meshgrid(np.arange(Z), np.arange(Y), np.arange(X), indexing='ij')\n",
    "# # check whether the meshgrid is currenctly computed\n",
    "# z, y, x = 20, 30, 40\n",
    "# assert(np.all(Z_mesh[z, :, :] == z))\n",
    "# assert(np.all(Y_mesh[:, y, :] == y))\n",
    "# assert(np.all(X_mesh[:, :, x] == x))\n",
    "for n_cluster, i in enumerate(topN_cluster_inds):\n",
    "    cluster_prob3d = prob3d * (cluster_ids == i)\n",
    "    # normalize to have sum equal to 1\n",
    "    cluster_prob3d = cluster_prob3d / np.sum(cluster_prob3d)\n",
    "    z = int(np.sum(Z_mesh*cluster_prob3d))\n",
    "    y = int(np.sum(Y_mesh*cluster_prob3d))\n",
    "    x = int(np.sum(X_mesh*cluster_prob3d))\n",
    "    z = np.minimum(np.maximum(z, half_size), Z-half_size)\n",
    "    y = np.minimum(np.maximum(y, half_size), Y-half_size)\n",
    "    x = np.minimum(np.maximum(x, half_size), X-half_size)\n",
    "    topN_centroids[n_cluster] = [z, y, x]\n",
    "    \n",
    "    # Take crop from the centroid\n",
    "    z_begin, z_end = z - half_size, z + half_size\n",
    "    y_begin, y_end = y - half_size, y + half_size\n",
    "    x_begin, x_end = x - half_size, x + half_size\n",
    "    topN_lung_img_crop[n_cluster] = lung_img[z_begin:z_end, y_begin:y_end, x_begin:x_end]\n",
    "    topN_prob3d_crop[n_cluster] = prob3d[z_begin:z_end, y_begin:y_end, x_begin:x_end]"
   ]
  },
  {
   "cell_type": "markdown",
   "metadata": {
    "collapsed": true
   },
   "source": [
    "# Visualizing the results"
   ]
  },
  {
   "cell_type": "code",
   "execution_count": null,
   "metadata": {
    "collapsed": false
   },
   "outputs": [],
   "source": [
    "zs = [z for z, y, x in topN_centroids]\n",
    "ys = [y for z, y, x in topN_centroids]\n",
    "xs = [x for z, y, x in topN_centroids]"
   ]
  },
  {
   "cell_type": "code",
   "execution_count": null,
   "metadata": {
    "collapsed": false
   },
   "outputs": [],
   "source": [
    "plt.close('all')\n",
    "\n",
    "z = 125\n",
    "plt.figure()\n",
    "plt.imshow(lung_img[z, :, :], vmin=-1000, vmax=400, cmap=plt.cm.bone)\n",
    "plt.colorbar()\n",
    "\n",
    "plt.figure()\n",
    "plt.imshow(prob3d[z, :, :], vmin=0, vmax=1)\n",
    "plt.colorbar()\n",
    "plt.plot(xs, ys, 'ro')\n",
    "\n",
    "plt.figure()\n",
    "plt.imshow(np.sum(prob3d, axis=0))\n",
    "plt.colorbar()\n",
    "plt.plot(xs, ys, 'ro')"
   ]
  },
  {
   "cell_type": "code",
   "execution_count": null,
   "metadata": {
    "collapsed": false,
    "scrolled": false
   },
   "outputs": [],
   "source": [
    "plt.close('all')\n",
    "\n",
    "for z in range(100, Z-50, 25):\n",
    "    plt.figure(figsize=(10, 4))\n",
    "    plt.subplot(1, 2, 1)\n",
    "    plt.imshow(lung_img[z, :, :], vmin=-1000, vmax=400, cmap=plt.cm.bone)\n",
    "    plt.title('lung image (slice along z=%d)' % z)\n",
    "    plt.colorbar()\n",
    "\n",
    "    plt.subplot(1, 2, 2)\n",
    "    plt.imshow(prob3d[z, :, :])\n",
    "    plt.title('prob3d (slice along z=%d)' % z)\n",
    "    plt.colorbar()\n",
    "    plt.plot(xs, ys, 'ro')\n",
    "\n",
    "plt.figure(figsize=(10, 4))\n",
    "plt.imshow(np.sum(prob3d, axis=0))\n",
    "plt.title('prob3d (sum along axis z)')\n",
    "plt.colorbar()\n",
    "plt.plot(xs, ys, 'ro')"
   ]
  },
  {
   "cell_type": "code",
   "execution_count": null,
   "metadata": {
    "collapsed": false,
    "scrolled": false
   },
   "outputs": [],
   "source": [
    "plt.close('all')\n",
    "\n",
    "for y in range(50, Y-50, 25):\n",
    "    plt.figure(figsize=(10, 4))\n",
    "    plt.subplot(1, 2, 1)\n",
    "    plt.imshow(lung_img[:, y, :], vmin=-1000, vmax=400, cmap=plt.cm.bone)\n",
    "    plt.title('lung image (slice along y=%d)' % y)\n",
    "    plt.colorbar()\n",
    "\n",
    "    plt.subplot(1, 2, 2)\n",
    "    plt.imshow(prob3d[:, y, :])\n",
    "    plt.title('prob3d (slice along y=%d)' % y)\n",
    "    plt.colorbar()\n",
    "    plt.plot(xs, zs, 'ro')\n",
    "\n",
    "plt.figure(figsize=(10, 4))\n",
    "plt.imshow(np.sum(prob3d, axis=1))\n",
    "plt.title('prob3d (sum along axis y)')\n",
    "plt.colorbar()\n",
    "plt.plot(xs, zs, 'ro')"
   ]
  },
  {
   "cell_type": "code",
   "execution_count": null,
   "metadata": {
    "collapsed": false,
    "scrolled": false
   },
   "outputs": [],
   "source": [
    "plt.close('all')\n",
    "\n",
    "for x in range(50, X-50, 25):\n",
    "    plt.figure(figsize=(10, 4))\n",
    "    plt.subplot(1, 2, 1)\n",
    "    plt.imshow(lung_img[:, :, x], vmin=-1000, vmax=400, cmap=plt.cm.bone)\n",
    "    plt.title('lung image (slice along x=%d)' % x)\n",
    "    plt.colorbar()\n",
    "\n",
    "    plt.subplot(1, 2, 2)\n",
    "    plt.imshow(prob3d[:, :, x])\n",
    "    plt.title('prob3d (slice along x=%d)' % x)\n",
    "    plt.colorbar()\n",
    "    plt.plot(ys, zs, 'ro')\n",
    "\n",
    "plt.figure(figsize=(10, 4))\n",
    "plt.imshow(np.sum(prob3d, axis=2))\n",
    "plt.title('prob3d (sum along axis x)')\n",
    "plt.colorbar()\n",
    "plt.plot(ys, zs, 'ro')"
   ]
  }
 ],
 "metadata": {
  "anaconda-cloud": {},
  "kernelspec": {
   "display_name": "Python [default]",
   "language": "python",
   "name": "python3"
  },
  "language_info": {
   "codemirror_mode": {
    "name": "ipython",
    "version": 3
   },
   "file_extension": ".py",
   "mimetype": "text/x-python",
   "name": "python",
   "nbconvert_exporter": "python",
   "pygments_lexer": "ipython3",
   "version": "3.5.1"
  }
 },
 "nbformat": 4,
 "nbformat_minor": 1
}
