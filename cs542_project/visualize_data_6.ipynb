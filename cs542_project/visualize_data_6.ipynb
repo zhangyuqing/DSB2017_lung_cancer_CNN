{
 "cells": [
  {
   "cell_type": "code",
   "execution_count": null,
   "metadata": {
    "collapsed": true
   },
   "outputs": [],
   "source": [
    "from glob import glob\n",
    "import numpy as np # linear algebra\n",
    "import csv\n",
    "import os\n",
    "\n",
    "from preprocess import normalize, zero_center\n",
    "\n",
    "import matplotlib.pyplot as plt\n",
    "%matplotlib inline"
   ]
  },
  {
   "cell_type": "code",
   "execution_count": null,
   "metadata": {
    "collapsed": false
   },
   "outputs": [],
   "source": [
    "DATA_DIR = './data/preprocessed/'\n",
    "LABLE_FILE_TRAIN = './data/stage1_labels_stage1train.csv'\n",
    "\n",
    "sample_list = []\n",
    "with open(LABLE_FILE_TRAIN) as f:\n",
    "    for name, label in csv.reader(f):\n",
    "        sample_list.append((name, float(label)))\n",
    "print('number of samples:', len(sample_list))"
   ]
  },
  {
   "cell_type": "code",
   "execution_count": null,
   "metadata": {
    "collapsed": false,
    "scrolled": false
   },
   "outputs": [],
   "source": [
    "plt.close('all')\n",
    "for i in range(50):\n",
    "    name, label = sample_list[i]\n",
    "    d = np.load(os.path.join(DATA_DIR, name+'.npz'))\n",
    "\n",
    "    pix = zero_center(normalize(d['pix_resampled']))\n",
    "    # set all outside regions to zero\n",
    "    # pix *= d['segmented_lungs_fill_dilated']  # not using segmentation\n",
    "\n",
    "    plt.figure(figsize=(20, 4))\n",
    "    plt.subplot(1, 5, 1)\n",
    "    plt.imshow(pix[pix.shape[0]*1//3, :, :], cmap='gray')\n",
    "    plt.title('i = ' + str(i))\n",
    "    plt.xlabel('1/3')\n",
    "    plt.subplot(1, 5, 2)\n",
    "    plt.imshow(pix[pix.shape[0]*2//5, :, :], cmap='gray')\n",
    "    plt.xlabel('2/5')\n",
    "    plt.title('label = ' + str(bool(label)))\n",
    "    plt.subplot(1, 5, 3)\n",
    "    plt.imshow(pix[pix.shape[0]*1//2, :, :], cmap='gray')\n",
    "    plt.xlabel('1/2')\n",
    "    plt.title(name)\n",
    "    plt.subplot(1, 5, 4)\n",
    "    plt.imshow(pix[pix.shape[0]*3//5, :, :], cmap='gray')\n",
    "    plt.xlabel('3/5')\n",
    "    plt.subplot(1, 5, 5)\n",
    "    plt.imshow(pix[pix.shape[0]*2//3, :, :], cmap='gray')\n",
    "    plt.xlabel('2/3')"
   ]
  },
  {
   "cell_type": "code",
   "execution_count": null,
   "metadata": {
    "collapsed": false
   },
   "outputs": [],
   "source": [
    "DATA_DIR = './data/preprocessed_aligned/'\n",
    "LABLE_FILE_TRAIN = './data/stage1_labels_stage1train.csv'\n",
    "\n",
    "sample_list = []\n",
    "with open(LABLE_FILE_TRAIN) as f:\n",
    "    for name, label in csv.reader(f):\n",
    "        sample_list.append((name, float(label)))\n",
    "print('number of samples:', len(sample_list))"
   ]
  },
  {
   "cell_type": "code",
   "execution_count": null,
   "metadata": {
    "collapsed": false
   },
   "outputs": [],
   "source": [
    "plt.close('all')\n",
    "for i in range(50):\n",
    "    name, label = sample_list[i]\n",
    "    d = np.load(os.path.join(DATA_DIR, name+'.npz'))\n",
    "\n",
    "    pix = zero_center(normalize(d['pix_resampled']))\n",
    "    # set all outside regions to zero\n",
    "    # pix *= d['segmented_lungs_fill_dilated']  # not using segmentation\n",
    "\n",
    "    plt.figure(figsize=(20, 4))\n",
    "    plt.subplot(1, 5, 1)\n",
    "    plt.imshow(pix[pix.shape[0]*1//3, :, :], cmap='gray')\n",
    "    plt.title('i = ' + str(i))\n",
    "    plt.xlabel('1/3')\n",
    "    plt.subplot(1, 5, 2)\n",
    "    plt.imshow(pix[pix.shape[0]*2//5, :, :], cmap='gray')\n",
    "    plt.xlabel('2/5')\n",
    "    plt.title('label = ' + str(bool(label)))\n",
    "    plt.subplot(1, 5, 3)\n",
    "    plt.imshow(pix[pix.shape[0]*1//2, :, :], cmap='gray')\n",
    "    plt.xlabel('1/2')\n",
    "    plt.title(name)\n",
    "    plt.subplot(1, 5, 4)\n",
    "    plt.imshow(pix[pix.shape[0]*3//5, :, :], cmap='gray')\n",
    "    plt.xlabel('3/5')\n",
    "    plt.subplot(1, 5, 5)\n",
    "    plt.imshow(pix[pix.shape[0]*2//3, :, :], cmap='gray')\n",
    "    plt.xlabel('2/3')"
   ]
  }
 ],
 "metadata": {
  "anaconda-cloud": {},
  "kernelspec": {
   "display_name": "Python [default]",
   "language": "python",
   "name": "python3"
  },
  "language_info": {
   "codemirror_mode": {
    "name": "ipython",
    "version": 3
   },
   "file_extension": ".py",
   "mimetype": "text/x-python",
   "name": "python",
   "nbconvert_exporter": "python",
   "pygments_lexer": "ipython3",
   "version": "3.5.1"
  }
 },
 "nbformat": 4,
 "nbformat_minor": 1
}
