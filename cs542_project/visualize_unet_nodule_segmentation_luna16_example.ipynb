{
 "cells": [
  {
   "cell_type": "code",
   "execution_count": null,
   "metadata": {
    "collapsed": true
   },
   "outputs": [],
   "source": [
    "import os\n",
    "\n",
    "import numpy as np\n",
    "import tensorflow as tf\n",
    "import csv\n",
    "\n",
    "from unet import unet\n",
    "\n",
    "import os; os.environ['CUDA_VISIBLE_DEVICES'] = '0'\n",
    "\n",
    "import matplotlib.pyplot as plt\n",
    "%matplotlib inline"
   ]
  },
  {
   "cell_type": "code",
   "execution_count": null,
   "metadata": {
    "collapsed": true
   },
   "outputs": [],
   "source": [
    "# Parameters\n",
    "SNAPSHOT_EPOCH = 20\n",
    "\n",
    "TRAINED_MODEL_AXIS_0 = './train/exp_luna16_unet_nodule_segmentation_axis_0/tfmodel/%08d' % SNAPSHOT_EPOCH\n",
    "TRAINED_MODEL_AXIS_1 = './train/exp_luna16_unet_nodule_segmentation_axis_1/tfmodel/%08d' % SNAPSHOT_EPOCH\n",
    "TRAINED_MODEL_AXIS_2 = './train/exp_luna16_unet_nodule_segmentation_axis_2/tfmodel/%08d' % SNAPSHOT_EPOCH"
   ]
  },
  {
   "cell_type": "code",
   "execution_count": null,
   "metadata": {
    "collapsed": false
   },
   "outputs": [],
   "source": [
    "# The network\n",
    "is_training = False\n",
    "\n",
    "image_ph = tf.placeholder(tf.float32, [None, None, None, 1])\n",
    "probs_axis_0 = tf.nn.sigmoid(unet(image_ph, is_training, None, None, 'unet_axiz_0'))\n",
    "probs_axis_1 = tf.nn.sigmoid(unet(image_ph, is_training, None, None, 'unet_axiz_1'))\n",
    "probs_axis_2 = tf.nn.sigmoid(unet(image_ph, is_training, None, None, 'unet_axiz_2'))\n",
    "\n",
    "all_vars = tf.global_variables()\n",
    "saver_axis_0 = tf.train.Saver([v for v in all_vars if v.name.startswith('unet_axiz_0')])\n",
    "saver_axis_1 = tf.train.Saver([v for v in all_vars if v.name.startswith('unet_axiz_1')])\n",
    "saver_axis_2 = tf.train.Saver([v for v in all_vars if v.name.startswith('unet_axiz_2')])"
   ]
  },
  {
   "cell_type": "code",
   "execution_count": null,
   "metadata": {
    "collapsed": true
   },
   "outputs": [],
   "source": [
    "sess = tf.Session(config=tf.ConfigProto(gpu_options=tf.GPUOptions(allow_growth=True)))\n",
    "saver_axis_0.restore(sess, TRAINED_MODEL_AXIS_0)\n",
    "saver_axis_1.restore(sess, TRAINED_MODEL_AXIS_1)\n",
    "saver_axis_2.restore(sess, TRAINED_MODEL_AXIS_2)"
   ]
  },
  {
   "cell_type": "code",
   "execution_count": null,
   "metadata": {
    "collapsed": true
   },
   "outputs": [],
   "source": [
    "MIN_BOUND = -1000.0\n",
    "MAX_BOUND = 400.0\n",
    "PIXEL_MEAN = 0.25\n",
    "def normalize_and_zero_center(image):\n",
    "    image = (image - MIN_BOUND) / (MAX_BOUND - MIN_BOUND)\n",
    "    image = image.astype(np.float32)\n",
    "    image[image>1] = 1.\n",
    "    image[image<0] = 0.\n",
    "    image -= PIXEL_MEAN\n",
    "    return image\n",
    "\n",
    "def pad_image(image, stride=16, fill=-PIXEL_MEAN):\n",
    "    '''\n",
    "    Pad the image to have length that is a multiplicative of 16,\n",
    "    by adding HU value of -1024 outside the boundary\n",
    "    \n",
    "    This function should be called AFTER normalize_and_zero_center\n",
    "    '''\n",
    "    Z, Y, X = image.shape\n",
    "    Z_pad = int(np.ceil(Z/stride))*stride\n",
    "    Y_pad = int(np.ceil(Y/stride))*stride\n",
    "    X_pad = int(np.ceil(X/stride))*stride\n",
    "    if Z != Z_pad or Y != Y_pad or X != X_pad:\n",
    "        # The padded value should be the minimum value (-1024 HU)\n",
    "        # which corresponds to -PIXEL_MEAN after normalization and 0-center\n",
    "        image_pad = np.zeros((Z_pad, Y_pad, X_pad), image.dtype)\n",
    "        image_pad[...] = fill\n",
    "        image_pad[:Z, :Y, :X] = image\n",
    "    else:\n",
    "        image_pad = image\n",
    "\n",
    "    return image_pad\n",
    "\n",
    "def run_3d_seg_along_axis(image, axis, batch_size=2):\n",
    "    Z, Y, X = image.shape\n",
    "    L = image.shape[axis]\n",
    "\n",
    "    prob3d = np.zeros(image.shape, np.float32)\n",
    "    \n",
    "    # split the batches\n",
    "    num_batches = int(np.ceil(L / batch_size))\n",
    "    for n_begin in range(0, L, batch_size):\n",
    "        n_end = min(n_begin+batch_size, L)\n",
    "        if axis == 0:\n",
    "            image2d = image[n_begin:n_end, :, :]\n",
    "            prob2d = sess.run(probs_axis_0, {image_ph: image2d[..., np.newaxis]})[..., 0]\n",
    "            prob3d[n_begin:n_end, :, :] = prob2d\n",
    "        elif axis == 1:\n",
    "            image2d = image[:, n_begin:n_end, :].transpose((1, 0, 2))  # ZYX -> YZX\n",
    "            prob2d = sess.run(probs_axis_1, {image_ph: image2d[..., np.newaxis]})[..., 0]\n",
    "            prob3d[:, n_begin:n_end, :] = prob2d.transpose((1, 0, 2))  # YZX -> ZYX\n",
    "        elif axis == 2:\n",
    "            image2d = image[:, :, n_begin:n_end].transpose((2, 0, 1))  # ZYX -> XZY\n",
    "            prob2d = sess.run(probs_axis_2, {image_ph: image2d[..., np.newaxis]})[..., 0]\n",
    "            prob3d[:, :, n_begin:n_end] = prob2d.transpose((1, 2, 0))  # XZY -> ZYX\n",
    "        else:\n",
    "            raise ValueError('Invalid axis ' + str(axis))\n",
    "\n",
    "    return prob3d"
   ]
  },
  {
   "cell_type": "raw",
   "metadata": {},
   "source": [
    "Examples on LUNA16"
   ]
  },
  {
   "cell_type": "code",
   "execution_count": null,
   "metadata": {
    "collapsed": true
   },
   "outputs": [],
   "source": [
    "DATA_DIR = './data_luna16/preprocessed_masks/'\n",
    "UID = '1.3.6.1.4.1.14519.5.2.1.6279.6001.897684031374557757145405000951'\n",
    "\n",
    "lung_img = np.load(DATA_DIR + UID + '_lung_img.npy')\n",
    "lung_mask = np.load(DATA_DIR + UID + '_lung_mask.npy')\n",
    "#nodule_mask = np.load(DATA_DIR + UID + '_nodule_mask.npy')"
   ]
  },
  {
   "cell_type": "code",
   "execution_count": null,
   "metadata": {
    "collapsed": false
   },
   "outputs": [],
   "source": [
    "# Apply lung mask\n",
    "lung_img[~lung_mask] = -1024"
   ]
  },
  {
   "cell_type": "code",
   "execution_count": null,
   "metadata": {
    "collapsed": false
   },
   "outputs": [],
   "source": [
    "image = normalize_and_zero_center(lung_img)\n",
    "\n",
    "Z, Y, X = image.shape\n",
    "image_pad = pad_image(image)\n",
    "prob3d_axis_0 = run_3d_seg_along_axis(image_pad, axis=0)[:Z, :Y, :X]\n",
    "prob3d_axis_1 = run_3d_seg_along_axis(image_pad, axis=1)[:Z, :Y, :X]\n",
    "prob3d_axis_2 = run_3d_seg_along_axis(image_pad, axis=2)[:Z, :Y, :X]\n",
    "prob3d = (prob3d_axis_0 + prob3d_axis_1 + prob3d_axis_2) / 3"
   ]
  },
  {
   "cell_type": "code",
   "execution_count": null,
   "metadata": {
    "collapsed": true
   },
   "outputs": [],
   "source": [
    "lung_img = np.load(DATA_DIR + UID + '_lung_img.npy')"
   ]
  },
  {
   "cell_type": "raw",
   "metadata": {},
   "source": [
    "Along axis 0 (Z-axis)"
   ]
  },
  {
   "cell_type": "code",
   "execution_count": null,
   "metadata": {
    "collapsed": false
   },
   "outputs": [],
   "source": [
    "plt.figure()\n",
    "plt.imshow(lung_img[120], vmin=-1000, vmax=400, cmap=plt.cm.bone)\n",
    "plt.colorbar()\n",
    "\n",
    "plt.figure()\n",
    "plt.imshow(prob3d[120], vmin=0, vmax=1)\n",
    "plt.colorbar()\n",
    "\n",
    "plt.figure()\n",
    "plt.imshow(prob3d[120] >= 0.2, vmin=0, vmax=1)\n",
    "plt.colorbar()"
   ]
  },
  {
   "cell_type": "raw",
   "metadata": {},
   "source": [
    "Along axis 1 (Y-axis)"
   ]
  },
  {
   "cell_type": "code",
   "execution_count": null,
   "metadata": {
    "collapsed": false
   },
   "outputs": [],
   "source": [
    "plt.figure()\n",
    "plt.imshow(lung_img[:, 256], vmin=-1000, vmax=400, cmap=plt.cm.bone)\n",
    "plt.colorbar()\n",
    "\n",
    "plt.figure()\n",
    "plt.imshow(prob3d[:, 256], vmin=0, vmax=1)\n",
    "plt.colorbar()\n",
    "\n",
    "plt.figure()\n",
    "plt.imshow(prob3d[:, 256] >= 0.2, vmin=0, vmax=1)\n",
    "plt.colorbar()"
   ]
  },
  {
   "cell_type": "raw",
   "metadata": {},
   "source": [
    "Along axis 2 (X-axis)"
   ]
  },
  {
   "cell_type": "code",
   "execution_count": null,
   "metadata": {
    "collapsed": false
   },
   "outputs": [],
   "source": [
    "plt.figure()\n",
    "plt.imshow(lung_img[..., 160], vmin=-1000, vmax=400, cmap=plt.cm.bone)\n",
    "plt.colorbar()\n",
    "\n",
    "plt.figure()\n",
    "plt.imshow(prob3d[..., 160], vmin=0, vmax=1)\n",
    "plt.colorbar()\n",
    "\n",
    "plt.figure()\n",
    "plt.imshow(prob3d[..., 160] >= 0.2, vmin=0, vmax=1)\n",
    "plt.colorbar()"
   ]
  }
 ],
 "metadata": {
  "anaconda-cloud": {},
  "kernelspec": {
   "display_name": "Python [default]",
   "language": "python",
   "name": "python3"
  },
  "language_info": {
   "codemirror_mode": {
    "name": "ipython",
    "version": 3
   },
   "file_extension": ".py",
   "mimetype": "text/x-python",
   "name": "python",
   "nbconvert_exporter": "python",
   "pygments_lexer": "ipython3",
   "version": "3.5.1"
  }
 },
 "nbformat": 4,
 "nbformat_minor": 1
}
