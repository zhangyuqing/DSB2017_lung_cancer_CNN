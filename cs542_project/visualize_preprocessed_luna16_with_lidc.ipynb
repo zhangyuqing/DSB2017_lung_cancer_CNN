{
 "cells": [
  {
   "cell_type": "code",
   "execution_count": null,
   "metadata": {
    "collapsed": true
   },
   "outputs": [],
   "source": [
    "import numpy as np\n",
    "\n",
    "import matplotlib.pyplot as plt\n",
    "%matplotlib inline"
   ]
  },
  {
   "cell_type": "code",
   "execution_count": null,
   "metadata": {
    "collapsed": true
   },
   "outputs": [],
   "source": [
    "DATA_DIR = './data_luna16/preprocessed_masks/unet_train_with_lidc/'\n",
    "UID = '1.3.6.1.4.1.14519.5.2.1.6279.6001.121993590721161347818774929286'"
   ]
  },
  {
   "cell_type": "code",
   "execution_count": null,
   "metadata": {
    "collapsed": false
   },
   "outputs": [],
   "source": [
    "d = np.load(DATA_DIR + UID + '_unet_train_with_lidc.npz')\n",
    "image = d['image']\n",
    "label = d['label']\n",
    "d.close()"
   ]
  },
  {
   "cell_type": "code",
   "execution_count": null,
   "metadata": {
    "collapsed": false
   },
   "outputs": [],
   "source": [
    "nonzero_zs = np.nonzero(np.any(label > 0, axis=(1, 2)))[0]\n",
    "print('number of scans containing nodules (along z):', len(nonzero_zs))\n",
    "print(nonzero_zs)"
   ]
  },
  {
   "cell_type": "code",
   "execution_count": null,
   "metadata": {
    "collapsed": false,
    "scrolled": false
   },
   "outputs": [],
   "source": [
    "plt.close('all')\n",
    "\n",
    "z = 120\n",
    "\n",
    "plt.figure()\n",
    "plt.imshow(image[z, :, :], cmap=plt.cm.bone, vmin=-1000, vmax=400)\n",
    "plt.grid('on')\n",
    "plt.colorbar()\n",
    "plt.figure()\n",
    "plt.imshow(label[z, :, :] % 2, vmin=0, vmax=1)\n",
    "plt.grid('on')\n",
    "plt.colorbar()\n",
    "plt.title('nodule mask')\n",
    "plt.figure()\n",
    "plt.imshow(label[z, :, :] // 2, vmin=0, vmax=1)\n",
    "plt.grid('on')\n",
    "plt.colorbar()\n",
    "plt.title('malignant nodule mask')\n",
    "\n",
    "y = 125\n",
    "\n",
    "plt.figure()\n",
    "plt.imshow(image[:, y, :], cmap=plt.cm.bone, vmin=-1000, vmax=400)\n",
    "plt.grid('on')\n",
    "plt.colorbar()\n",
    "plt.figure()\n",
    "plt.imshow(label[:, y, :] % 2, vmin=0, vmax=1)\n",
    "plt.grid('on')\n",
    "plt.colorbar()\n",
    "plt.title('nodule mask')\n",
    "plt.figure()\n",
    "plt.imshow(label[:, y, :] // 2, vmin=0, vmax=1)\n",
    "plt.grid('on')\n",
    "plt.colorbar()\n",
    "plt.title('malignant nodule mask')\n",
    "\n",
    "x = 50\n",
    "\n",
    "plt.figure()\n",
    "plt.imshow(image[:, :, x], cmap=plt.cm.bone, vmin=-1000, vmax=400)\n",
    "plt.grid('on')\n",
    "plt.colorbar()\n",
    "plt.figure()\n",
    "plt.imshow(label[:, :, x] % 2, vmin=0, vmax=1)\n",
    "plt.grid('on')\n",
    "plt.colorbar()\n",
    "plt.title('nodule mask')\n",
    "plt.figure()\n",
    "plt.imshow(label[:, :, x] // 2, vmin=0, vmax=1)\n",
    "plt.grid('on')\n",
    "plt.colorbar()\n",
    "plt.title('malignant nodule mask')"
   ]
  },
  {
   "cell_type": "code",
   "execution_count": null,
   "metadata": {
    "collapsed": false
   },
   "outputs": [],
   "source": [
    "z = 120\n",
    "\n",
    "plt.figure()\n",
    "plt.imshow(image[z, :, :], cmap=plt.cm.bone, vmin=-1000, vmax=400)\n",
    "plt.colorbar()\n",
    "plt.figure()\n",
    "plt.imshow(label[z, :, :] % 2, vmin=0, vmax=1)\n",
    "plt.colorbar()"
   ]
  }
 ],
 "metadata": {
  "anaconda-cloud": {},
  "kernelspec": {
   "display_name": "Python [default]",
   "language": "python",
   "name": "python3"
  },
  "language_info": {
   "codemirror_mode": {
    "name": "ipython",
    "version": 3
   },
   "file_extension": ".py",
   "mimetype": "text/x-python",
   "name": "python",
   "nbconvert_exporter": "python",
   "pygments_lexer": "ipython3",
   "version": "3.5.1"
  }
 },
 "nbformat": 4,
 "nbformat_minor": 1
}
