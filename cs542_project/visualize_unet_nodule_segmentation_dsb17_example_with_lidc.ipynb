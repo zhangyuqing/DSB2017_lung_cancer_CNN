{
 "cells": [
  {
   "cell_type": "markdown",
   "metadata": {},
   "source": [
    "# Load data"
   ]
  },
  {
   "cell_type": "code",
   "execution_count": null,
   "metadata": {
    "collapsed": true
   },
   "outputs": [],
   "source": [
    "import os\n",
    "import numpy as np\n",
    "\n",
    "import matplotlib.pyplot as plt\n",
    "%matplotlib inline"
   ]
  },
  {
   "cell_type": "code",
   "execution_count": null,
   "metadata": {
    "collapsed": true
   },
   "outputs": [],
   "source": [
    "EPOCH = 500  \n",
    "\n",
    "DATA_DIR = './data/preprocessed_masks/lung_region/'\n",
    "PROB_DIR = './data/preprocessed_masks/nodule_prob_with_lidc_epoch_%08d/' % EPOCH\n",
    "\n",
    "UID = '83463d2951670b7e8c3efd7594a13e10'"
   ]
  },
  {
   "cell_type": "code",
   "execution_count": null,
   "metadata": {
    "collapsed": false
   },
   "outputs": [],
   "source": [
    "# Load the image and the lung mask\n",
    "f = np.load(os.path.join(DATA_DIR, UID + '_lung_region.npz'))\n",
    "lung_img, lung_mask = f['lung_img'], f['lung_mask']\n",
    "f.close()\n",
    "\n",
    "# Load the 3D probability map\n",
    "f = np.load(os.path.join(PROB_DIR, UID + '_nodule_prob.npz'))\n",
    "prob3d = f['prob3d']\n",
    "f.close()\n",
    "\n",
    "print('CT scan size in ZYX:', lung_img.shape)"
   ]
  },
  {
   "cell_type": "markdown",
   "metadata": {},
   "source": [
    "# Along axis 0 (Z-axis)"
   ]
  },
  {
   "cell_type": "code",
   "execution_count": null,
   "metadata": {
    "collapsed": false
   },
   "outputs": [],
   "source": [
    "z = 120\n",
    "\n",
    "plt.figure()\n",
    "plt.imshow(lung_img[z, :, :], vmin=-1000, vmax=400, cmap=plt.cm.bone)\n",
    "plt.title('HU values')\n",
    "plt.colorbar()\n",
    "\n",
    "plt.figure()\n",
    "plt.imshow(prob3d[z, :, :, 0], vmin=0, vmax=1)\n",
    "plt.title('nodule probability')\n",
    "plt.colorbar()\n",
    "\n",
    "plt.figure()\n",
    "plt.imshow(prob3d[z, :, :, 0] >= 0.2, vmin=0, vmax=1)\n",
    "plt.title('nodule mask (threshold at 0.2)')\n",
    "plt.colorbar()\n",
    "\n",
    "plt.figure()\n",
    "plt.imshow(prob3d[z, :, :, 1], vmin=0, vmax=1)\n",
    "plt.title('malignant nodule probability')\n",
    "plt.colorbar()\n",
    "\n",
    "plt.figure()\n",
    "plt.imshow(prob3d[z, :, :, 1] >= 0.2, vmin=0, vmax=1)\n",
    "plt.title('malignant nodule mask (threshold at 0.2)')\n",
    "plt.colorbar()"
   ]
  },
  {
   "cell_type": "markdown",
   "metadata": {},
   "source": [
    "# Along axis 1 (Y-axis)"
   ]
  },
  {
   "cell_type": "code",
   "execution_count": null,
   "metadata": {
    "collapsed": false
   },
   "outputs": [],
   "source": [
    "y = 125\n",
    "\n",
    "plt.figure()\n",
    "plt.imshow(lung_img[:, y, :], vmin=-1000, vmax=400, cmap=plt.cm.bone)\n",
    "plt.title('HU values')\n",
    "plt.colorbar()\n",
    "\n",
    "plt.figure()\n",
    "plt.imshow(prob3d[:, y, :, 0], vmin=0, vmax=1)\n",
    "plt.title('nodule probability')\n",
    "plt.colorbar()\n",
    "\n",
    "plt.figure()\n",
    "plt.imshow(prob3d[:, y, :, 0] >= 0.2, vmin=0, vmax=1)\n",
    "plt.title('nodule mask (threshold at 0.2)')\n",
    "plt.colorbar()"
   ]
  },
  {
   "cell_type": "markdown",
   "metadata": {},
   "source": [
    "# Along axis 2 (X-axis)"
   ]
  },
  {
   "cell_type": "code",
   "execution_count": null,
   "metadata": {
    "collapsed": false
   },
   "outputs": [],
   "source": [
    "x = 60\n",
    "\n",
    "plt.figure()\n",
    "plt.imshow(lung_img[:, :, x], vmin=-1000, vmax=400, cmap=plt.cm.bone)\n",
    "plt.title('HU values')\n",
    "plt.colorbar()\n",
    "\n",
    "plt.figure()\n",
    "plt.imshow(prob3d[:, :, x, 0], vmin=0, vmax=1)\n",
    "plt.title('nodule probability')\n",
    "plt.colorbar()\n",
    "\n",
    "plt.figure()\n",
    "plt.imshow(prob3d[:, :, x, 0] >= 0.2, vmin=0, vmax=1)\n",
    "plt.title('nodule mask (threshold at 0.2)')\n",
    "plt.colorbar()"
   ]
  }
 ],
 "metadata": {
  "anaconda-cloud": {},
  "kernelspec": {
   "display_name": "Python [default]",
   "language": "python",
   "name": "python3"
  },
  "language_info": {
   "codemirror_mode": {
    "name": "ipython",
    "version": 3
   },
   "file_extension": ".py",
   "mimetype": "text/x-python",
   "name": "python",
   "nbconvert_exporter": "python",
   "pygments_lexer": "ipython3",
   "version": "3.5.1"
  }
 },
 "nbformat": 4,
 "nbformat_minor": 1
}
